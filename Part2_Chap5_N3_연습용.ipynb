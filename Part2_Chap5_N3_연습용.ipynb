{
  "nbformat": 4,
  "nbformat_minor": 0,
  "metadata": {
    "colab": {
      "provenance": [],
      "collapsed_sections": [],
      "authorship_tag": "ABX9TyM+hPDK8wjY2BZbk4FNdCVl",
      "include_colab_link": true
    },
    "kernelspec": {
      "name": "python3",
      "display_name": "Python 3"
    },
    "language_info": {
      "name": "python"
    }
  },
  "cells": [
    {
      "cell_type": "markdown",
      "metadata": {
        "id": "view-in-github",
        "colab_type": "text"
      },
      "source": [
        "<a href=\"https://colab.research.google.com/github/LUCY-JungHwaKim/DataAnalysis/blob/main/Part2_Chap5_N3_%EC%97%B0%EC%8A%B5%EC%9A%A9.ipynb\" target=\"_parent\"><img src=\"https://colab.research.google.com/assets/colab-badge.svg\" alt=\"Open In Colab\"/></a>"
      ]
    },
    {
      "cell_type": "code",
      "execution_count": 1,
      "metadata": {
        "colab": {
          "base_uri": "https://localhost:8080/"
        },
        "id": "HmH2kvcZ5hbp",
        "outputId": "e7da7476-8e4c-477d-9745-8e7ad2c45d5d"
      },
      "outputs": [
        {
          "output_type": "stream",
          "name": "stdout",
          "text": [
            "Cloning into 'yemoonsaBigdata'...\n",
            "remote: Enumerating objects: 485, done.\u001b[K\n",
            "remote: Counting objects: 100% (122/122), done.\u001b[K\n",
            "remote: Compressing objects: 100% (78/78), done.\u001b[K\n",
            "remote: Total 485 (delta 66), reused 49 (delta 44), pack-reused 363\u001b[K\n",
            "Receiving objects: 100% (485/485), 8.89 MiB | 5.75 MiB/s, done.\n",
            "Resolving deltas: 100% (251/251), done.\n"
          ]
        }
      ],
      "source": [
        "!git clone https://github.com/AnalyticsKnight/yemoonsaBigdata"
      ]
    },
    {
      "cell_type": "code",
      "source": [
        "import pandas as pd\n",
        "\n",
        "X_test = pd.read_csv('./yemoonsaBigdata/datasets/Part2/stellar_X_test.csv')\n",
        "X_train = pd.read_csv('./yemoonsaBigdata/datasets/Part2/stellar_X_train.csv')\n",
        "y_train = pd.read_csv('./yemoonsaBigdata/datasets/Part2/stellar_y_train.csv')"
      ],
      "metadata": {
        "id": "cWvsFcCJ5mrn"
      },
      "execution_count": 22,
      "outputs": []
    },
    {
      "cell_type": "code",
      "source": [
        "X_test.info()"
      ],
      "metadata": {
        "colab": {
          "base_uri": "https://localhost:8080/"
        },
        "id": "SqxMa2sI6caw",
        "outputId": "23f027f0-8089-41aa-a50f-aeb67575efbc"
      },
      "execution_count": 4,
      "outputs": [
        {
          "output_type": "stream",
          "name": "stdout",
          "text": [
            "<class 'pandas.core.frame.DataFrame'>\n",
            "RangeIndex: 30000 entries, 0 to 29999\n",
            "Data columns (total 13 columns):\n",
            " #   Column    Non-Null Count  Dtype  \n",
            "---  ------    --------------  -----  \n",
            " 0   alpha     30000 non-null  float64\n",
            " 1   delta     30000 non-null  float64\n",
            " 2   u         30000 non-null  float64\n",
            " 3   g         30000 non-null  float64\n",
            " 4   r         30000 non-null  float64\n",
            " 5   i         30000 non-null  float64\n",
            " 6   z         30000 non-null  float64\n",
            " 7   redshift  30000 non-null  float64\n",
            " 8   run_ID    30000 non-null  int64  \n",
            " 9   rerun_ID  30000 non-null  int64  \n",
            " 10  cam_col   30000 non-null  int64  \n",
            " 11  field_ID  30000 non-null  int64  \n",
            " 12  plate     30000 non-null  int64  \n",
            "dtypes: float64(8), int64(5)\n",
            "memory usage: 3.0 MB\n"
          ]
        }
      ]
    },
    {
      "cell_type": "code",
      "source": [
        "from sklearn.preprocessing import MinMaxScaler\n",
        "\n",
        "scaler = MinMaxScaler()\n",
        "\n",
        "X_train_proc = scaler.fit_transform(X_train)\n",
        "X_test_proc = scaler.transform(X_test)"
      ],
      "metadata": {
        "id": "Dci_qVbM6B6q"
      },
      "execution_count": 5,
      "outputs": []
    },
    {
      "cell_type": "code",
      "source": [
        "from sklearn.model_selection import train_test_split\n",
        "\n",
        "X_tr, X_val, y_tr, y_val = train_test_split(X_train, y_train, test_size=0.3)"
      ],
      "metadata": {
        "id": "sEb43BI86gAe"
      },
      "execution_count": 9,
      "outputs": []
    },
    {
      "cell_type": "code",
      "source": [
        "y_tr"
      ],
      "metadata": {
        "colab": {
          "base_uri": "https://localhost:8080/",
          "height": 424
        },
        "id": "gMgwMS1d7brT",
        "outputId": "41304c95-7efc-49d6-c325-60e965c23033"
      },
      "execution_count": 10,
      "outputs": [
        {
          "output_type": "execute_result",
          "data": {
            "text/plain": [
              "       galaxy\n",
              "8115        1\n",
              "30071       0\n",
              "59168       1\n",
              "59523       0\n",
              "3605        1\n",
              "...       ...\n",
              "27033       0\n",
              "11772       1\n",
              "60271       1\n",
              "926         1\n",
              "69137       1\n",
              "\n",
              "[49000 rows x 1 columns]"
            ],
            "text/html": [
              "\n",
              "  <div id=\"df-85a8a1e4-65e3-4181-9282-8339c6c9daee\">\n",
              "    <div class=\"colab-df-container\">\n",
              "      <div>\n",
              "<style scoped>\n",
              "    .dataframe tbody tr th:only-of-type {\n",
              "        vertical-align: middle;\n",
              "    }\n",
              "\n",
              "    .dataframe tbody tr th {\n",
              "        vertical-align: top;\n",
              "    }\n",
              "\n",
              "    .dataframe thead th {\n",
              "        text-align: right;\n",
              "    }\n",
              "</style>\n",
              "<table border=\"1\" class=\"dataframe\">\n",
              "  <thead>\n",
              "    <tr style=\"text-align: right;\">\n",
              "      <th></th>\n",
              "      <th>galaxy</th>\n",
              "    </tr>\n",
              "  </thead>\n",
              "  <tbody>\n",
              "    <tr>\n",
              "      <th>8115</th>\n",
              "      <td>1</td>\n",
              "    </tr>\n",
              "    <tr>\n",
              "      <th>30071</th>\n",
              "      <td>0</td>\n",
              "    </tr>\n",
              "    <tr>\n",
              "      <th>59168</th>\n",
              "      <td>1</td>\n",
              "    </tr>\n",
              "    <tr>\n",
              "      <th>59523</th>\n",
              "      <td>0</td>\n",
              "    </tr>\n",
              "    <tr>\n",
              "      <th>3605</th>\n",
              "      <td>1</td>\n",
              "    </tr>\n",
              "    <tr>\n",
              "      <th>...</th>\n",
              "      <td>...</td>\n",
              "    </tr>\n",
              "    <tr>\n",
              "      <th>27033</th>\n",
              "      <td>0</td>\n",
              "    </tr>\n",
              "    <tr>\n",
              "      <th>11772</th>\n",
              "      <td>1</td>\n",
              "    </tr>\n",
              "    <tr>\n",
              "      <th>60271</th>\n",
              "      <td>1</td>\n",
              "    </tr>\n",
              "    <tr>\n",
              "      <th>926</th>\n",
              "      <td>1</td>\n",
              "    </tr>\n",
              "    <tr>\n",
              "      <th>69137</th>\n",
              "      <td>1</td>\n",
              "    </tr>\n",
              "  </tbody>\n",
              "</table>\n",
              "<p>49000 rows × 1 columns</p>\n",
              "</div>\n",
              "      <button class=\"colab-df-convert\" onclick=\"convertToInteractive('df-85a8a1e4-65e3-4181-9282-8339c6c9daee')\"\n",
              "              title=\"Convert this dataframe to an interactive table.\"\n",
              "              style=\"display:none;\">\n",
              "        \n",
              "  <svg xmlns=\"http://www.w3.org/2000/svg\" height=\"24px\"viewBox=\"0 0 24 24\"\n",
              "       width=\"24px\">\n",
              "    <path d=\"M0 0h24v24H0V0z\" fill=\"none\"/>\n",
              "    <path d=\"M18.56 5.44l.94 2.06.94-2.06 2.06-.94-2.06-.94-.94-2.06-.94 2.06-2.06.94zm-11 1L8.5 8.5l.94-2.06 2.06-.94-2.06-.94L8.5 2.5l-.94 2.06-2.06.94zm10 10l.94 2.06.94-2.06 2.06-.94-2.06-.94-.94-2.06-.94 2.06-2.06.94z\"/><path d=\"M17.41 7.96l-1.37-1.37c-.4-.4-.92-.59-1.43-.59-.52 0-1.04.2-1.43.59L10.3 9.45l-7.72 7.72c-.78.78-.78 2.05 0 2.83L4 21.41c.39.39.9.59 1.41.59.51 0 1.02-.2 1.41-.59l7.78-7.78 2.81-2.81c.8-.78.8-2.07 0-2.86zM5.41 20L4 18.59l7.72-7.72 1.47 1.35L5.41 20z\"/>\n",
              "  </svg>\n",
              "      </button>\n",
              "      \n",
              "  <style>\n",
              "    .colab-df-container {\n",
              "      display:flex;\n",
              "      flex-wrap:wrap;\n",
              "      gap: 12px;\n",
              "    }\n",
              "\n",
              "    .colab-df-convert {\n",
              "      background-color: #E8F0FE;\n",
              "      border: none;\n",
              "      border-radius: 50%;\n",
              "      cursor: pointer;\n",
              "      display: none;\n",
              "      fill: #1967D2;\n",
              "      height: 32px;\n",
              "      padding: 0 0 0 0;\n",
              "      width: 32px;\n",
              "    }\n",
              "\n",
              "    .colab-df-convert:hover {\n",
              "      background-color: #E2EBFA;\n",
              "      box-shadow: 0px 1px 2px rgba(60, 64, 67, 0.3), 0px 1px 3px 1px rgba(60, 64, 67, 0.15);\n",
              "      fill: #174EA6;\n",
              "    }\n",
              "\n",
              "    [theme=dark] .colab-df-convert {\n",
              "      background-color: #3B4455;\n",
              "      fill: #D2E3FC;\n",
              "    }\n",
              "\n",
              "    [theme=dark] .colab-df-convert:hover {\n",
              "      background-color: #434B5C;\n",
              "      box-shadow: 0px 1px 3px 1px rgba(0, 0, 0, 0.15);\n",
              "      filter: drop-shadow(0px 1px 2px rgba(0, 0, 0, 0.3));\n",
              "      fill: #FFFFFF;\n",
              "    }\n",
              "  </style>\n",
              "\n",
              "      <script>\n",
              "        const buttonEl =\n",
              "          document.querySelector('#df-85a8a1e4-65e3-4181-9282-8339c6c9daee button.colab-df-convert');\n",
              "        buttonEl.style.display =\n",
              "          google.colab.kernel.accessAllowed ? 'block' : 'none';\n",
              "\n",
              "        async function convertToInteractive(key) {\n",
              "          const element = document.querySelector('#df-85a8a1e4-65e3-4181-9282-8339c6c9daee');\n",
              "          const dataTable =\n",
              "            await google.colab.kernel.invokeFunction('convertToInteractive',\n",
              "                                                     [key], {});\n",
              "          if (!dataTable) return;\n",
              "\n",
              "          const docLinkHtml = 'Like what you see? Visit the ' +\n",
              "            '<a target=\"_blank\" href=https://colab.research.google.com/notebooks/data_table.ipynb>data table notebook</a>'\n",
              "            + ' to learn more about interactive tables.';\n",
              "          element.innerHTML = '';\n",
              "          dataTable['output_type'] = 'display_data';\n",
              "          await google.colab.output.renderOutput(dataTable, element);\n",
              "          const docLink = document.createElement('div');\n",
              "          docLink.innerHTML = docLinkHtml;\n",
              "          element.appendChild(docLink);\n",
              "        }\n",
              "      </script>\n",
              "    </div>\n",
              "  </div>\n",
              "  "
            ]
          },
          "metadata": {},
          "execution_count": 10
        }
      ]
    },
    {
      "cell_type": "code",
      "source": [
        "## knn 사용\n",
        "from sklearn.neighbors import KNeighborsClassifier\n",
        "\n",
        "modelKNN = KNeighborsClassifier(n_neighbors=5, metric='euclidean')\n",
        "modelKNN.fit(X_tr, y_tr.values.ravel()) ## ravel : 다차원 배열을 1차원 배열로 평평하게 만들어 주는 것"
      ],
      "metadata": {
        "colab": {
          "base_uri": "https://localhost:8080/"
        },
        "id": "pV339R4G6olR",
        "outputId": "2a92d20d-d826-4f5f-d205-70df5b949c6f"
      },
      "execution_count": 11,
      "outputs": [
        {
          "output_type": "execute_result",
          "data": {
            "text/plain": [
              "KNeighborsClassifier(metric='euclidean')"
            ]
          },
          "metadata": {},
          "execution_count": 11
        }
      ]
    },
    {
      "cell_type": "code",
      "source": [
        "from sklearn.tree import DecisionTreeClassifier\n",
        "\n",
        "modelDT = DecisionTreeClassifier()\n",
        "modelDT.fit(X_tr, y_tr.values.ravel())"
      ],
      "metadata": {
        "colab": {
          "base_uri": "https://localhost:8080/"
        },
        "id": "i9PM8Hnm7d_z",
        "outputId": "ee6b9ba7-8330-4454-a7b9-dfc57a9314f1"
      },
      "execution_count": 12,
      "outputs": [
        {
          "output_type": "execute_result",
          "data": {
            "text/plain": [
              "DecisionTreeClassifier()"
            ]
          },
          "metadata": {},
          "execution_count": 12
        }
      ]
    },
    {
      "cell_type": "code",
      "source": [
        "## 데이터 모형 평가\n",
        "\n",
        "y_val_pred_probaKNN = modelKNN.predict_proba(X_val)\n",
        "y_val_pred_probaDT = modelDT.predict_proba(X_val)"
      ],
      "metadata": {
        "id": "USXPhwld7n3C"
      },
      "execution_count": 13,
      "outputs": []
    },
    {
      "cell_type": "code",
      "source": [
        "## 모델 성능 평가\n",
        "from sklearn.metrics import roc_auc_score\n",
        "scoreKNN = roc_auc_score(y_val, y_val_pred_probaKNN[:, 1])\n",
        "scoreDT = roc_auc_score(y_val, y_val_pred_probaDT[:, 1])"
      ],
      "metadata": {
        "id": "OsqDvQTT72uU"
      },
      "execution_count": 14,
      "outputs": []
    },
    {
      "cell_type": "code",
      "source": [
        "scoreKNN, scoreDT"
      ],
      "metadata": {
        "colab": {
          "base_uri": "https://localhost:8080/"
        },
        "id": "oxR-c0DW75_S",
        "outputId": "39d8b392-9dca-4e70-ee32-60ba00bd04f2"
      },
      "execution_count": 15,
      "outputs": [
        {
          "output_type": "execute_result",
          "data": {
            "text/plain": [
              "(0.8404226867289254, 0.9635114365448304)"
            ]
          },
          "metadata": {},
          "execution_count": 15
        }
      ]
    },
    {
      "cell_type": "code",
      "source": [
        "y_tst_pred = modelDT.predict(X_test)\n",
        "y_tst_pred"
      ],
      "metadata": {
        "colab": {
          "base_uri": "https://localhost:8080/"
        },
        "id": "3Gy8-rPp77zB",
        "outputId": "073ea5e9-5b4e-4e88-8e82-f6577a600a17"
      },
      "execution_count": 16,
      "outputs": [
        {
          "output_type": "execute_result",
          "data": {
            "text/plain": [
              "array([1, 0, 1, ..., 0, 0, 1])"
            ]
          },
          "metadata": {},
          "execution_count": 16
        }
      ]
    },
    {
      "cell_type": "code",
      "source": [
        "result = pd.DataFrame()\n",
        "result['galaxy'] = y_tst_pred\n",
        "result"
      ],
      "metadata": {
        "colab": {
          "base_uri": "https://localhost:8080/",
          "height": 424
        },
        "id": "MABCgDX78A8i",
        "outputId": "f03898b3-6744-4d58-dc2f-b422348c2d01"
      },
      "execution_count": 17,
      "outputs": [
        {
          "output_type": "execute_result",
          "data": {
            "text/plain": [
              "       galaxy\n",
              "0           1\n",
              "1           0\n",
              "2           1\n",
              "3           1\n",
              "4           0\n",
              "...       ...\n",
              "29995       1\n",
              "29996       0\n",
              "29997       0\n",
              "29998       0\n",
              "29999       1\n",
              "\n",
              "[30000 rows x 1 columns]"
            ],
            "text/html": [
              "\n",
              "  <div id=\"df-d7689ad9-a6cf-41e7-9aab-407813515988\">\n",
              "    <div class=\"colab-df-container\">\n",
              "      <div>\n",
              "<style scoped>\n",
              "    .dataframe tbody tr th:only-of-type {\n",
              "        vertical-align: middle;\n",
              "    }\n",
              "\n",
              "    .dataframe tbody tr th {\n",
              "        vertical-align: top;\n",
              "    }\n",
              "\n",
              "    .dataframe thead th {\n",
              "        text-align: right;\n",
              "    }\n",
              "</style>\n",
              "<table border=\"1\" class=\"dataframe\">\n",
              "  <thead>\n",
              "    <tr style=\"text-align: right;\">\n",
              "      <th></th>\n",
              "      <th>galaxy</th>\n",
              "    </tr>\n",
              "  </thead>\n",
              "  <tbody>\n",
              "    <tr>\n",
              "      <th>0</th>\n",
              "      <td>1</td>\n",
              "    </tr>\n",
              "    <tr>\n",
              "      <th>1</th>\n",
              "      <td>0</td>\n",
              "    </tr>\n",
              "    <tr>\n",
              "      <th>2</th>\n",
              "      <td>1</td>\n",
              "    </tr>\n",
              "    <tr>\n",
              "      <th>3</th>\n",
              "      <td>1</td>\n",
              "    </tr>\n",
              "    <tr>\n",
              "      <th>4</th>\n",
              "      <td>0</td>\n",
              "    </tr>\n",
              "    <tr>\n",
              "      <th>...</th>\n",
              "      <td>...</td>\n",
              "    </tr>\n",
              "    <tr>\n",
              "      <th>29995</th>\n",
              "      <td>1</td>\n",
              "    </tr>\n",
              "    <tr>\n",
              "      <th>29996</th>\n",
              "      <td>0</td>\n",
              "    </tr>\n",
              "    <tr>\n",
              "      <th>29997</th>\n",
              "      <td>0</td>\n",
              "    </tr>\n",
              "    <tr>\n",
              "      <th>29998</th>\n",
              "      <td>0</td>\n",
              "    </tr>\n",
              "    <tr>\n",
              "      <th>29999</th>\n",
              "      <td>1</td>\n",
              "    </tr>\n",
              "  </tbody>\n",
              "</table>\n",
              "<p>30000 rows × 1 columns</p>\n",
              "</div>\n",
              "      <button class=\"colab-df-convert\" onclick=\"convertToInteractive('df-d7689ad9-a6cf-41e7-9aab-407813515988')\"\n",
              "              title=\"Convert this dataframe to an interactive table.\"\n",
              "              style=\"display:none;\">\n",
              "        \n",
              "  <svg xmlns=\"http://www.w3.org/2000/svg\" height=\"24px\"viewBox=\"0 0 24 24\"\n",
              "       width=\"24px\">\n",
              "    <path d=\"M0 0h24v24H0V0z\" fill=\"none\"/>\n",
              "    <path d=\"M18.56 5.44l.94 2.06.94-2.06 2.06-.94-2.06-.94-.94-2.06-.94 2.06-2.06.94zm-11 1L8.5 8.5l.94-2.06 2.06-.94-2.06-.94L8.5 2.5l-.94 2.06-2.06.94zm10 10l.94 2.06.94-2.06 2.06-.94-2.06-.94-.94-2.06-.94 2.06-2.06.94z\"/><path d=\"M17.41 7.96l-1.37-1.37c-.4-.4-.92-.59-1.43-.59-.52 0-1.04.2-1.43.59L10.3 9.45l-7.72 7.72c-.78.78-.78 2.05 0 2.83L4 21.41c.39.39.9.59 1.41.59.51 0 1.02-.2 1.41-.59l7.78-7.78 2.81-2.81c.8-.78.8-2.07 0-2.86zM5.41 20L4 18.59l7.72-7.72 1.47 1.35L5.41 20z\"/>\n",
              "  </svg>\n",
              "      </button>\n",
              "      \n",
              "  <style>\n",
              "    .colab-df-container {\n",
              "      display:flex;\n",
              "      flex-wrap:wrap;\n",
              "      gap: 12px;\n",
              "    }\n",
              "\n",
              "    .colab-df-convert {\n",
              "      background-color: #E8F0FE;\n",
              "      border: none;\n",
              "      border-radius: 50%;\n",
              "      cursor: pointer;\n",
              "      display: none;\n",
              "      fill: #1967D2;\n",
              "      height: 32px;\n",
              "      padding: 0 0 0 0;\n",
              "      width: 32px;\n",
              "    }\n",
              "\n",
              "    .colab-df-convert:hover {\n",
              "      background-color: #E2EBFA;\n",
              "      box-shadow: 0px 1px 2px rgba(60, 64, 67, 0.3), 0px 1px 3px 1px rgba(60, 64, 67, 0.15);\n",
              "      fill: #174EA6;\n",
              "    }\n",
              "\n",
              "    [theme=dark] .colab-df-convert {\n",
              "      background-color: #3B4455;\n",
              "      fill: #D2E3FC;\n",
              "    }\n",
              "\n",
              "    [theme=dark] .colab-df-convert:hover {\n",
              "      background-color: #434B5C;\n",
              "      box-shadow: 0px 1px 3px 1px rgba(0, 0, 0, 0.15);\n",
              "      filter: drop-shadow(0px 1px 2px rgba(0, 0, 0, 0.3));\n",
              "      fill: #FFFFFF;\n",
              "    }\n",
              "  </style>\n",
              "\n",
              "      <script>\n",
              "        const buttonEl =\n",
              "          document.querySelector('#df-d7689ad9-a6cf-41e7-9aab-407813515988 button.colab-df-convert');\n",
              "        buttonEl.style.display =\n",
              "          google.colab.kernel.accessAllowed ? 'block' : 'none';\n",
              "\n",
              "        async function convertToInteractive(key) {\n",
              "          const element = document.querySelector('#df-d7689ad9-a6cf-41e7-9aab-407813515988');\n",
              "          const dataTable =\n",
              "            await google.colab.kernel.invokeFunction('convertToInteractive',\n",
              "                                                     [key], {});\n",
              "          if (!dataTable) return;\n",
              "\n",
              "          const docLinkHtml = 'Like what you see? Visit the ' +\n",
              "            '<a target=\"_blank\" href=https://colab.research.google.com/notebooks/data_table.ipynb>data table notebook</a>'\n",
              "            + ' to learn more about interactive tables.';\n",
              "          element.innerHTML = '';\n",
              "          dataTable['output_type'] = 'display_data';\n",
              "          await google.colab.output.renderOutput(dataTable, element);\n",
              "          const docLink = document.createElement('div');\n",
              "          docLink.innerHTML = docLinkHtml;\n",
              "          element.appendChild(docLink);\n",
              "        }\n",
              "      </script>\n",
              "    </div>\n",
              "  </div>\n",
              "  "
            ]
          },
          "metadata": {},
          "execution_count": 17
        }
      ]
    },
    {
      "cell_type": "code",
      "source": [
        "#result.to_csv('')"
      ],
      "metadata": {
        "id": "z2SVC6cM8OyD"
      },
      "execution_count": null,
      "outputs": []
    },
    {
      "cell_type": "markdown",
      "source": [
        "## 답지"
      ],
      "metadata": {
        "id": "CM6Fckrp8zIy"
      }
    },
    {
      "cell_type": "code",
      "source": [
        "X_train.describe()"
      ],
      "metadata": {
        "colab": {
          "base_uri": "https://localhost:8080/",
          "height": 364
        },
        "id": "FNBvINQY81Sn",
        "outputId": "d14013c2-7f5c-4739-d537-d23c8fd1a91b"
      },
      "execution_count": 18,
      "outputs": [
        {
          "output_type": "execute_result",
          "data": {
            "text/plain": [
              "              alpha         delta             u             g             r  \\\n",
              "count  70000.000000  70000.000000  70000.000000  70000.000000  70000.000000   \n",
              "mean     177.535809     24.107885     21.938806     20.486718     19.644011   \n",
              "std       96.483093     19.665057     37.942814     37.925201      1.852053   \n",
              "min        0.005528    -18.785328  -9999.000000  -9999.000000      9.822070   \n",
              "25%      127.385304      5.115922     20.349987     18.957325     18.136183   \n",
              "50%      180.706865     23.579507     22.183860     21.095445     20.122805   \n",
              "75%      233.942154     39.871336     23.684145     22.121073     21.039012   \n",
              "max      359.999615     82.947622     32.781390     31.602240     29.571860   \n",
              "\n",
              "                  i             z      redshift        run_ID  rerun_ID  \\\n",
              "count  70000.000000  70000.000000  70000.000000  70000.000000   70000.0   \n",
              "mean      19.082969     18.624590      0.575246   4478.649443     301.0   \n",
              "std        1.755997     37.904705      0.729921   1965.326847       0.0   \n",
              "min        9.469903  -9999.000000     -0.009971    109.000000     301.0   \n",
              "25%       17.733732     17.463838      0.052602   3185.000000     301.0   \n",
              "50%       19.399590     19.001010      0.422838   4188.000000     301.0   \n",
              "75%       20.391340     19.917578      0.700399   5326.000000     301.0   \n",
              "max       32.141470     28.790550      7.011245   8162.000000     301.0   \n",
              "\n",
              "            cam_col      field_ID         plate  \n",
              "count  70000.000000  70000.000000  70000.000000  \n",
              "mean       3.510500    186.045714   5127.852900  \n",
              "std        1.585203    148.661268   2947.452991  \n",
              "min        1.000000     11.000000    266.000000  \n",
              "25%        2.000000     82.000000   2525.750000  \n",
              "50%        4.000000    146.000000   4978.000000  \n",
              "75%        5.000000    241.000000   7389.000000  \n",
              "max        6.000000    989.000000  12547.000000  "
            ],
            "text/html": [
              "\n",
              "  <div id=\"df-129c49ca-7fc4-4c06-be05-1620e27e9d54\">\n",
              "    <div class=\"colab-df-container\">\n",
              "      <div>\n",
              "<style scoped>\n",
              "    .dataframe tbody tr th:only-of-type {\n",
              "        vertical-align: middle;\n",
              "    }\n",
              "\n",
              "    .dataframe tbody tr th {\n",
              "        vertical-align: top;\n",
              "    }\n",
              "\n",
              "    .dataframe thead th {\n",
              "        text-align: right;\n",
              "    }\n",
              "</style>\n",
              "<table border=\"1\" class=\"dataframe\">\n",
              "  <thead>\n",
              "    <tr style=\"text-align: right;\">\n",
              "      <th></th>\n",
              "      <th>alpha</th>\n",
              "      <th>delta</th>\n",
              "      <th>u</th>\n",
              "      <th>g</th>\n",
              "      <th>r</th>\n",
              "      <th>i</th>\n",
              "      <th>z</th>\n",
              "      <th>redshift</th>\n",
              "      <th>run_ID</th>\n",
              "      <th>rerun_ID</th>\n",
              "      <th>cam_col</th>\n",
              "      <th>field_ID</th>\n",
              "      <th>plate</th>\n",
              "    </tr>\n",
              "  </thead>\n",
              "  <tbody>\n",
              "    <tr>\n",
              "      <th>count</th>\n",
              "      <td>70000.000000</td>\n",
              "      <td>70000.000000</td>\n",
              "      <td>70000.000000</td>\n",
              "      <td>70000.000000</td>\n",
              "      <td>70000.000000</td>\n",
              "      <td>70000.000000</td>\n",
              "      <td>70000.000000</td>\n",
              "      <td>70000.000000</td>\n",
              "      <td>70000.000000</td>\n",
              "      <td>70000.0</td>\n",
              "      <td>70000.000000</td>\n",
              "      <td>70000.000000</td>\n",
              "      <td>70000.000000</td>\n",
              "    </tr>\n",
              "    <tr>\n",
              "      <th>mean</th>\n",
              "      <td>177.535809</td>\n",
              "      <td>24.107885</td>\n",
              "      <td>21.938806</td>\n",
              "      <td>20.486718</td>\n",
              "      <td>19.644011</td>\n",
              "      <td>19.082969</td>\n",
              "      <td>18.624590</td>\n",
              "      <td>0.575246</td>\n",
              "      <td>4478.649443</td>\n",
              "      <td>301.0</td>\n",
              "      <td>3.510500</td>\n",
              "      <td>186.045714</td>\n",
              "      <td>5127.852900</td>\n",
              "    </tr>\n",
              "    <tr>\n",
              "      <th>std</th>\n",
              "      <td>96.483093</td>\n",
              "      <td>19.665057</td>\n",
              "      <td>37.942814</td>\n",
              "      <td>37.925201</td>\n",
              "      <td>1.852053</td>\n",
              "      <td>1.755997</td>\n",
              "      <td>37.904705</td>\n",
              "      <td>0.729921</td>\n",
              "      <td>1965.326847</td>\n",
              "      <td>0.0</td>\n",
              "      <td>1.585203</td>\n",
              "      <td>148.661268</td>\n",
              "      <td>2947.452991</td>\n",
              "    </tr>\n",
              "    <tr>\n",
              "      <th>min</th>\n",
              "      <td>0.005528</td>\n",
              "      <td>-18.785328</td>\n",
              "      <td>-9999.000000</td>\n",
              "      <td>-9999.000000</td>\n",
              "      <td>9.822070</td>\n",
              "      <td>9.469903</td>\n",
              "      <td>-9999.000000</td>\n",
              "      <td>-0.009971</td>\n",
              "      <td>109.000000</td>\n",
              "      <td>301.0</td>\n",
              "      <td>1.000000</td>\n",
              "      <td>11.000000</td>\n",
              "      <td>266.000000</td>\n",
              "    </tr>\n",
              "    <tr>\n",
              "      <th>25%</th>\n",
              "      <td>127.385304</td>\n",
              "      <td>5.115922</td>\n",
              "      <td>20.349987</td>\n",
              "      <td>18.957325</td>\n",
              "      <td>18.136183</td>\n",
              "      <td>17.733732</td>\n",
              "      <td>17.463838</td>\n",
              "      <td>0.052602</td>\n",
              "      <td>3185.000000</td>\n",
              "      <td>301.0</td>\n",
              "      <td>2.000000</td>\n",
              "      <td>82.000000</td>\n",
              "      <td>2525.750000</td>\n",
              "    </tr>\n",
              "    <tr>\n",
              "      <th>50%</th>\n",
              "      <td>180.706865</td>\n",
              "      <td>23.579507</td>\n",
              "      <td>22.183860</td>\n",
              "      <td>21.095445</td>\n",
              "      <td>20.122805</td>\n",
              "      <td>19.399590</td>\n",
              "      <td>19.001010</td>\n",
              "      <td>0.422838</td>\n",
              "      <td>4188.000000</td>\n",
              "      <td>301.0</td>\n",
              "      <td>4.000000</td>\n",
              "      <td>146.000000</td>\n",
              "      <td>4978.000000</td>\n",
              "    </tr>\n",
              "    <tr>\n",
              "      <th>75%</th>\n",
              "      <td>233.942154</td>\n",
              "      <td>39.871336</td>\n",
              "      <td>23.684145</td>\n",
              "      <td>22.121073</td>\n",
              "      <td>21.039012</td>\n",
              "      <td>20.391340</td>\n",
              "      <td>19.917578</td>\n",
              "      <td>0.700399</td>\n",
              "      <td>5326.000000</td>\n",
              "      <td>301.0</td>\n",
              "      <td>5.000000</td>\n",
              "      <td>241.000000</td>\n",
              "      <td>7389.000000</td>\n",
              "    </tr>\n",
              "    <tr>\n",
              "      <th>max</th>\n",
              "      <td>359.999615</td>\n",
              "      <td>82.947622</td>\n",
              "      <td>32.781390</td>\n",
              "      <td>31.602240</td>\n",
              "      <td>29.571860</td>\n",
              "      <td>32.141470</td>\n",
              "      <td>28.790550</td>\n",
              "      <td>7.011245</td>\n",
              "      <td>8162.000000</td>\n",
              "      <td>301.0</td>\n",
              "      <td>6.000000</td>\n",
              "      <td>989.000000</td>\n",
              "      <td>12547.000000</td>\n",
              "    </tr>\n",
              "  </tbody>\n",
              "</table>\n",
              "</div>\n",
              "      <button class=\"colab-df-convert\" onclick=\"convertToInteractive('df-129c49ca-7fc4-4c06-be05-1620e27e9d54')\"\n",
              "              title=\"Convert this dataframe to an interactive table.\"\n",
              "              style=\"display:none;\">\n",
              "        \n",
              "  <svg xmlns=\"http://www.w3.org/2000/svg\" height=\"24px\"viewBox=\"0 0 24 24\"\n",
              "       width=\"24px\">\n",
              "    <path d=\"M0 0h24v24H0V0z\" fill=\"none\"/>\n",
              "    <path d=\"M18.56 5.44l.94 2.06.94-2.06 2.06-.94-2.06-.94-.94-2.06-.94 2.06-2.06.94zm-11 1L8.5 8.5l.94-2.06 2.06-.94-2.06-.94L8.5 2.5l-.94 2.06-2.06.94zm10 10l.94 2.06.94-2.06 2.06-.94-2.06-.94-.94-2.06-.94 2.06-2.06.94z\"/><path d=\"M17.41 7.96l-1.37-1.37c-.4-.4-.92-.59-1.43-.59-.52 0-1.04.2-1.43.59L10.3 9.45l-7.72 7.72c-.78.78-.78 2.05 0 2.83L4 21.41c.39.39.9.59 1.41.59.51 0 1.02-.2 1.41-.59l7.78-7.78 2.81-2.81c.8-.78.8-2.07 0-2.86zM5.41 20L4 18.59l7.72-7.72 1.47 1.35L5.41 20z\"/>\n",
              "  </svg>\n",
              "      </button>\n",
              "      \n",
              "  <style>\n",
              "    .colab-df-container {\n",
              "      display:flex;\n",
              "      flex-wrap:wrap;\n",
              "      gap: 12px;\n",
              "    }\n",
              "\n",
              "    .colab-df-convert {\n",
              "      background-color: #E8F0FE;\n",
              "      border: none;\n",
              "      border-radius: 50%;\n",
              "      cursor: pointer;\n",
              "      display: none;\n",
              "      fill: #1967D2;\n",
              "      height: 32px;\n",
              "      padding: 0 0 0 0;\n",
              "      width: 32px;\n",
              "    }\n",
              "\n",
              "    .colab-df-convert:hover {\n",
              "      background-color: #E2EBFA;\n",
              "      box-shadow: 0px 1px 2px rgba(60, 64, 67, 0.3), 0px 1px 3px 1px rgba(60, 64, 67, 0.15);\n",
              "      fill: #174EA6;\n",
              "    }\n",
              "\n",
              "    [theme=dark] .colab-df-convert {\n",
              "      background-color: #3B4455;\n",
              "      fill: #D2E3FC;\n",
              "    }\n",
              "\n",
              "    [theme=dark] .colab-df-convert:hover {\n",
              "      background-color: #434B5C;\n",
              "      box-shadow: 0px 1px 3px 1px rgba(0, 0, 0, 0.15);\n",
              "      filter: drop-shadow(0px 1px 2px rgba(0, 0, 0, 0.3));\n",
              "      fill: #FFFFFF;\n",
              "    }\n",
              "  </style>\n",
              "\n",
              "      <script>\n",
              "        const buttonEl =\n",
              "          document.querySelector('#df-129c49ca-7fc4-4c06-be05-1620e27e9d54 button.colab-df-convert');\n",
              "        buttonEl.style.display =\n",
              "          google.colab.kernel.accessAllowed ? 'block' : 'none';\n",
              "\n",
              "        async function convertToInteractive(key) {\n",
              "          const element = document.querySelector('#df-129c49ca-7fc4-4c06-be05-1620e27e9d54');\n",
              "          const dataTable =\n",
              "            await google.colab.kernel.invokeFunction('convertToInteractive',\n",
              "                                                     [key], {});\n",
              "          if (!dataTable) return;\n",
              "\n",
              "          const docLinkHtml = 'Like what you see? Visit the ' +\n",
              "            '<a target=\"_blank\" href=https://colab.research.google.com/notebooks/data_table.ipynb>data table notebook</a>'\n",
              "            + ' to learn more about interactive tables.';\n",
              "          element.innerHTML = '';\n",
              "          dataTable['output_type'] = 'display_data';\n",
              "          await google.colab.output.renderOutput(dataTable, element);\n",
              "          const docLink = document.createElement('div');\n",
              "          docLink.innerHTML = docLinkHtml;\n",
              "          element.appendChild(docLink);\n",
              "        }\n",
              "      </script>\n",
              "    </div>\n",
              "  </div>\n",
              "  "
            ]
          },
          "metadata": {},
          "execution_count": 18
        }
      ]
    },
    {
      "cell_type": "code",
      "source": [
        "## min값에서 -9999가 이상해보임 --> 이상치 제거\n",
        "y_train = y_train.loc[(X_train.u != -9999) & (X_train.g != -9999) & (X_train.z != -9999)]\n",
        "X_train = X_train.loc[(X_train.u != -9999) & (X_train.g != -9999) & (X_train.z != -9999)]\n"
      ],
      "metadata": {
        "id": "oYBd8eCV85VW"
      },
      "execution_count": 23,
      "outputs": []
    },
    {
      "cell_type": "code",
      "source": [
        "X_train.describe()"
      ],
      "metadata": {
        "colab": {
          "base_uri": "https://localhost:8080/",
          "height": 364
        },
        "id": "XVyH2rcj9PxF",
        "outputId": "cad7a083-1f48-4ef6-d303-b1f4c8a7dbff"
      },
      "execution_count": 24,
      "outputs": [
        {
          "output_type": "execute_result",
          "data": {
            "text/plain": [
              "              alpha         delta             u             g             r  \\\n",
              "count  69999.000000  69999.000000  69999.000000  69999.000000  69999.000000   \n",
              "mean     177.535145     24.108238     22.081964     20.629856     19.644032   \n",
              "std       96.483622     19.664976      2.248554      2.033576      1.852057   \n",
              "min        0.005528    -18.785328     10.996230     10.498200      9.822070   \n",
              "25%      127.384192      5.117238     20.350000     18.957435     18.136075   \n",
              "50%      180.705886     23.580630     22.183900     21.095450     20.122810   \n",
              "75%      233.942330     39.872079     23.684160     22.121075     21.039035   \n",
              "max      359.999615     82.947622     32.781390     31.602240     29.571860   \n",
              "\n",
              "                  i             z      redshift        run_ID  rerun_ID  \\\n",
              "count  69999.000000  69999.000000  69999.000000  69999.000000   69999.0   \n",
              "mean      19.082984     18.767701      0.575254   4478.702681     301.0   \n",
              "std        1.756005      1.764734      0.729923   1965.290408       0.0   \n",
              "min        9.469903      9.612333     -0.009971    109.000000     301.0   \n",
              "25%       17.733685     17.463885      0.052608   3185.000000     301.0   \n",
              "50%       19.399590     19.001020      0.422848   4188.000000     301.0   \n",
              "75%       20.391350     19.917595      0.700399   5326.000000     301.0   \n",
              "max       32.141470     28.790550      7.011245   8162.000000     301.0   \n",
              "\n",
              "            cam_col      field_ID         plate  \n",
              "count  69999.000000  69999.000000  69999.000000  \n",
              "mean       3.510522    186.040701   5127.878813  \n",
              "std        1.585204    148.656411   2947.466071  \n",
              "min        1.000000     11.000000    266.000000  \n",
              "25%        2.000000     82.000000   2525.500000  \n",
              "50%        4.000000    146.000000   4978.000000  \n",
              "75%        5.000000    241.000000   7389.000000  \n",
              "max        6.000000    989.000000  12547.000000  "
            ],
            "text/html": [
              "\n",
              "  <div id=\"df-85bd54cb-d1e8-42a5-a475-4c82fee3eaef\">\n",
              "    <div class=\"colab-df-container\">\n",
              "      <div>\n",
              "<style scoped>\n",
              "    .dataframe tbody tr th:only-of-type {\n",
              "        vertical-align: middle;\n",
              "    }\n",
              "\n",
              "    .dataframe tbody tr th {\n",
              "        vertical-align: top;\n",
              "    }\n",
              "\n",
              "    .dataframe thead th {\n",
              "        text-align: right;\n",
              "    }\n",
              "</style>\n",
              "<table border=\"1\" class=\"dataframe\">\n",
              "  <thead>\n",
              "    <tr style=\"text-align: right;\">\n",
              "      <th></th>\n",
              "      <th>alpha</th>\n",
              "      <th>delta</th>\n",
              "      <th>u</th>\n",
              "      <th>g</th>\n",
              "      <th>r</th>\n",
              "      <th>i</th>\n",
              "      <th>z</th>\n",
              "      <th>redshift</th>\n",
              "      <th>run_ID</th>\n",
              "      <th>rerun_ID</th>\n",
              "      <th>cam_col</th>\n",
              "      <th>field_ID</th>\n",
              "      <th>plate</th>\n",
              "    </tr>\n",
              "  </thead>\n",
              "  <tbody>\n",
              "    <tr>\n",
              "      <th>count</th>\n",
              "      <td>69999.000000</td>\n",
              "      <td>69999.000000</td>\n",
              "      <td>69999.000000</td>\n",
              "      <td>69999.000000</td>\n",
              "      <td>69999.000000</td>\n",
              "      <td>69999.000000</td>\n",
              "      <td>69999.000000</td>\n",
              "      <td>69999.000000</td>\n",
              "      <td>69999.000000</td>\n",
              "      <td>69999.0</td>\n",
              "      <td>69999.000000</td>\n",
              "      <td>69999.000000</td>\n",
              "      <td>69999.000000</td>\n",
              "    </tr>\n",
              "    <tr>\n",
              "      <th>mean</th>\n",
              "      <td>177.535145</td>\n",
              "      <td>24.108238</td>\n",
              "      <td>22.081964</td>\n",
              "      <td>20.629856</td>\n",
              "      <td>19.644032</td>\n",
              "      <td>19.082984</td>\n",
              "      <td>18.767701</td>\n",
              "      <td>0.575254</td>\n",
              "      <td>4478.702681</td>\n",
              "      <td>301.0</td>\n",
              "      <td>3.510522</td>\n",
              "      <td>186.040701</td>\n",
              "      <td>5127.878813</td>\n",
              "    </tr>\n",
              "    <tr>\n",
              "      <th>std</th>\n",
              "      <td>96.483622</td>\n",
              "      <td>19.664976</td>\n",
              "      <td>2.248554</td>\n",
              "      <td>2.033576</td>\n",
              "      <td>1.852057</td>\n",
              "      <td>1.756005</td>\n",
              "      <td>1.764734</td>\n",
              "      <td>0.729923</td>\n",
              "      <td>1965.290408</td>\n",
              "      <td>0.0</td>\n",
              "      <td>1.585204</td>\n",
              "      <td>148.656411</td>\n",
              "      <td>2947.466071</td>\n",
              "    </tr>\n",
              "    <tr>\n",
              "      <th>min</th>\n",
              "      <td>0.005528</td>\n",
              "      <td>-18.785328</td>\n",
              "      <td>10.996230</td>\n",
              "      <td>10.498200</td>\n",
              "      <td>9.822070</td>\n",
              "      <td>9.469903</td>\n",
              "      <td>9.612333</td>\n",
              "      <td>-0.009971</td>\n",
              "      <td>109.000000</td>\n",
              "      <td>301.0</td>\n",
              "      <td>1.000000</td>\n",
              "      <td>11.000000</td>\n",
              "      <td>266.000000</td>\n",
              "    </tr>\n",
              "    <tr>\n",
              "      <th>25%</th>\n",
              "      <td>127.384192</td>\n",
              "      <td>5.117238</td>\n",
              "      <td>20.350000</td>\n",
              "      <td>18.957435</td>\n",
              "      <td>18.136075</td>\n",
              "      <td>17.733685</td>\n",
              "      <td>17.463885</td>\n",
              "      <td>0.052608</td>\n",
              "      <td>3185.000000</td>\n",
              "      <td>301.0</td>\n",
              "      <td>2.000000</td>\n",
              "      <td>82.000000</td>\n",
              "      <td>2525.500000</td>\n",
              "    </tr>\n",
              "    <tr>\n",
              "      <th>50%</th>\n",
              "      <td>180.705886</td>\n",
              "      <td>23.580630</td>\n",
              "      <td>22.183900</td>\n",
              "      <td>21.095450</td>\n",
              "      <td>20.122810</td>\n",
              "      <td>19.399590</td>\n",
              "      <td>19.001020</td>\n",
              "      <td>0.422848</td>\n",
              "      <td>4188.000000</td>\n",
              "      <td>301.0</td>\n",
              "      <td>4.000000</td>\n",
              "      <td>146.000000</td>\n",
              "      <td>4978.000000</td>\n",
              "    </tr>\n",
              "    <tr>\n",
              "      <th>75%</th>\n",
              "      <td>233.942330</td>\n",
              "      <td>39.872079</td>\n",
              "      <td>23.684160</td>\n",
              "      <td>22.121075</td>\n",
              "      <td>21.039035</td>\n",
              "      <td>20.391350</td>\n",
              "      <td>19.917595</td>\n",
              "      <td>0.700399</td>\n",
              "      <td>5326.000000</td>\n",
              "      <td>301.0</td>\n",
              "      <td>5.000000</td>\n",
              "      <td>241.000000</td>\n",
              "      <td>7389.000000</td>\n",
              "    </tr>\n",
              "    <tr>\n",
              "      <th>max</th>\n",
              "      <td>359.999615</td>\n",
              "      <td>82.947622</td>\n",
              "      <td>32.781390</td>\n",
              "      <td>31.602240</td>\n",
              "      <td>29.571860</td>\n",
              "      <td>32.141470</td>\n",
              "      <td>28.790550</td>\n",
              "      <td>7.011245</td>\n",
              "      <td>8162.000000</td>\n",
              "      <td>301.0</td>\n",
              "      <td>6.000000</td>\n",
              "      <td>989.000000</td>\n",
              "      <td>12547.000000</td>\n",
              "    </tr>\n",
              "  </tbody>\n",
              "</table>\n",
              "</div>\n",
              "      <button class=\"colab-df-convert\" onclick=\"convertToInteractive('df-85bd54cb-d1e8-42a5-a475-4c82fee3eaef')\"\n",
              "              title=\"Convert this dataframe to an interactive table.\"\n",
              "              style=\"display:none;\">\n",
              "        \n",
              "  <svg xmlns=\"http://www.w3.org/2000/svg\" height=\"24px\"viewBox=\"0 0 24 24\"\n",
              "       width=\"24px\">\n",
              "    <path d=\"M0 0h24v24H0V0z\" fill=\"none\"/>\n",
              "    <path d=\"M18.56 5.44l.94 2.06.94-2.06 2.06-.94-2.06-.94-.94-2.06-.94 2.06-2.06.94zm-11 1L8.5 8.5l.94-2.06 2.06-.94-2.06-.94L8.5 2.5l-.94 2.06-2.06.94zm10 10l.94 2.06.94-2.06 2.06-.94-2.06-.94-.94-2.06-.94 2.06-2.06.94z\"/><path d=\"M17.41 7.96l-1.37-1.37c-.4-.4-.92-.59-1.43-.59-.52 0-1.04.2-1.43.59L10.3 9.45l-7.72 7.72c-.78.78-.78 2.05 0 2.83L4 21.41c.39.39.9.59 1.41.59.51 0 1.02-.2 1.41-.59l7.78-7.78 2.81-2.81c.8-.78.8-2.07 0-2.86zM5.41 20L4 18.59l7.72-7.72 1.47 1.35L5.41 20z\"/>\n",
              "  </svg>\n",
              "      </button>\n",
              "      \n",
              "  <style>\n",
              "    .colab-df-container {\n",
              "      display:flex;\n",
              "      flex-wrap:wrap;\n",
              "      gap: 12px;\n",
              "    }\n",
              "\n",
              "    .colab-df-convert {\n",
              "      background-color: #E8F0FE;\n",
              "      border: none;\n",
              "      border-radius: 50%;\n",
              "      cursor: pointer;\n",
              "      display: none;\n",
              "      fill: #1967D2;\n",
              "      height: 32px;\n",
              "      padding: 0 0 0 0;\n",
              "      width: 32px;\n",
              "    }\n",
              "\n",
              "    .colab-df-convert:hover {\n",
              "      background-color: #E2EBFA;\n",
              "      box-shadow: 0px 1px 2px rgba(60, 64, 67, 0.3), 0px 1px 3px 1px rgba(60, 64, 67, 0.15);\n",
              "      fill: #174EA6;\n",
              "    }\n",
              "\n",
              "    [theme=dark] .colab-df-convert {\n",
              "      background-color: #3B4455;\n",
              "      fill: #D2E3FC;\n",
              "    }\n",
              "\n",
              "    [theme=dark] .colab-df-convert:hover {\n",
              "      background-color: #434B5C;\n",
              "      box-shadow: 0px 1px 3px 1px rgba(0, 0, 0, 0.15);\n",
              "      filter: drop-shadow(0px 1px 2px rgba(0, 0, 0, 0.3));\n",
              "      fill: #FFFFFF;\n",
              "    }\n",
              "  </style>\n",
              "\n",
              "      <script>\n",
              "        const buttonEl =\n",
              "          document.querySelector('#df-85bd54cb-d1e8-42a5-a475-4c82fee3eaef button.colab-df-convert');\n",
              "        buttonEl.style.display =\n",
              "          google.colab.kernel.accessAllowed ? 'block' : 'none';\n",
              "\n",
              "        async function convertToInteractive(key) {\n",
              "          const element = document.querySelector('#df-85bd54cb-d1e8-42a5-a475-4c82fee3eaef');\n",
              "          const dataTable =\n",
              "            await google.colab.kernel.invokeFunction('convertToInteractive',\n",
              "                                                     [key], {});\n",
              "          if (!dataTable) return;\n",
              "\n",
              "          const docLinkHtml = 'Like what you see? Visit the ' +\n",
              "            '<a target=\"_blank\" href=https://colab.research.google.com/notebooks/data_table.ipynb>data table notebook</a>'\n",
              "            + ' to learn more about interactive tables.';\n",
              "          element.innerHTML = '';\n",
              "          dataTable['output_type'] = 'display_data';\n",
              "          await google.colab.output.renderOutput(dataTable, element);\n",
              "          const docLink = document.createElement('div');\n",
              "          docLink.innerHTML = docLinkHtml;\n",
              "          element.appendChild(docLink);\n",
              "        }\n",
              "      </script>\n",
              "    </div>\n",
              "  </div>\n",
              "  "
            ]
          },
          "metadata": {},
          "execution_count": 24
        }
      ]
    },
    {
      "cell_type": "code",
      "source": [
        "y_train.reset_index(inplace=True, drop=True)\n",
        "X_train.reset_index(inplace=True, drop=True)\n",
        "# 인덱스 재정렬"
      ],
      "metadata": {
        "id": "MmSOzNGq9sK6"
      },
      "execution_count": 27,
      "outputs": []
    },
    {
      "cell_type": "code",
      "source": [
        "X_train['redshift'].quantile([q/100 for q in range(90,100)])"
      ],
      "metadata": {
        "colab": {
          "base_uri": "https://localhost:8080/"
        },
        "id": "LUmdGB1Q9w_4",
        "outputId": "579e5895-5b76-451d-f161-83be9b689cd3"
      },
      "execution_count": 30,
      "outputs": [
        {
          "output_type": "execute_result",
          "data": {
            "text/plain": [
              "0.90    1.566266\n",
              "0.91    1.675948\n",
              "0.92    1.786824\n",
              "0.93    1.910857\n",
              "0.94    2.041589\n",
              "0.95    2.186017\n",
              "0.96    2.323494\n",
              "0.97    2.485796\n",
              "0.98    2.713839\n",
              "0.99    3.116165\n",
              "Name: redshift, dtype: float64"
            ]
          },
          "metadata": {},
          "execution_count": 30
        }
      ]
    },
    {
      "cell_type": "code",
      "source": [
        "import matplotlib.pyplot as plt\n",
        "\n",
        "plt.hist(X_train.redshift, bins=30)"
      ],
      "metadata": {
        "colab": {
          "base_uri": "https://localhost:8080/",
          "height": 519
        },
        "id": "bt6l5jg5-Fen",
        "outputId": "dce2d6c0-3d79-444d-ed3c-24e39240ad80"
      },
      "execution_count": 34,
      "outputs": [
        {
          "output_type": "execute_result",
          "data": {
            "text/plain": [
              "(array([2.7942e+04, 8.7070e+03, 1.5564e+04, 5.7750e+03, 2.1250e+03,\n",
              "        1.7370e+03, 1.5390e+03, 1.4540e+03, 1.2150e+03, 1.1700e+03,\n",
              "        9.4500e+02, 6.1200e+02, 4.0800e+02, 3.0300e+02, 1.3500e+02,\n",
              "        7.5000e+01, 5.7000e+01, 4.3000e+01, 1.7000e+01, 1.4000e+01,\n",
              "        1.1000e+01, 1.4000e+01, 9.0000e+00, 2.1000e+01, 1.2000e+01,\n",
              "        1.1000e+01, 1.5000e+01, 2.9000e+01, 1.8000e+01, 2.2000e+01]),\n",
              " array([-0.00997067,  0.22406986,  0.45811038,  0.6921509 ,  0.92619142,\n",
              "         1.16023194,  1.39427247,  1.62831299,  1.86235351,  2.09639403,\n",
              "         2.33043456,  2.56447508,  2.7985156 ,  3.03255612,  3.26659664,\n",
              "         3.50063717,  3.73467769,  3.96871821,  4.20275873,  4.43679926,\n",
              "         4.67083978,  4.9048803 ,  5.13892082,  5.37296134,  5.60700187,\n",
              "         5.84104239,  6.07508291,  6.30912343,  6.54316396,  6.77720448,\n",
              "         7.011245  ]),\n",
              " <a list of 30 Patch objects>)"
            ]
          },
          "metadata": {},
          "execution_count": 34
        },
        {
          "output_type": "display_data",
          "data": {
            "text/plain": [
              "<Figure size 432x288 with 1 Axes>"
            ],
            "image/png": "[encoded data removed]"
          },
          "metadata": {
            "needs_background": "light"
          }
        }
      ]
    },
    {
      "cell_type": "code",
      "source": [
        "## 제 2유형 순서\n",
        "\n",
        "1. 데이터 불러오기 (describe, info 확인)\n",
        "2. "
      ],
      "metadata": {
        "id": "nVPxK68D_61m"
      },
      "execution_count": null,
      "outputs": []
    },
    {
      "cell_type": "markdown",
      "source": [
        "## 제 2유형 순서\n",
        "\n",
        "1. 데이터 불러오기 (describe, info 확인)\n",
        "2. 데이터 전처리\n",
        "  - 이상치 및 결측치 확인\n",
        "  - 이상치 제거 및 결측치 대체 (median값으로..?)\n",
        "  - 데이터 제거했다면 reset_index 필수\n",
        "  - 파생변수 만들만한게 있는지 값들 분포 확인\n",
        "  - 수치형 변수 및 범주형 변수 나누기\n",
        "  - 수치형 변수, 범주형 변수들 의미 있는지 확인\n",
        "  - 범주형 변수는 레이블인코딩을 통해서 수치형으로 바꿔주기\n",
        "  - train, validation 데이터로 분리\n",
        "  - preprocessing 수행 (StandardScaler 또는 MinMaxScaler)\n",
        "3. 모델 지정\n",
        "  - RandomForestClassifier\n",
        "  - DecisionTreeClassifier\n",
        "  - LinearRegression\n",
        "  - SVR\n",
        "  - KNeighborsClassifier\n",
        "  - XGBClassifier (xgboost)\n",
        "4. 모델 성능 평가\n",
        "  - roc_auc_score\n",
        "  - validaion으로 예측한 값과 실제 값이 맞는지 확인\n",
        "  - 변수 중요도 확인\n",
        "5. 모델 테스트\n",
        "  - 테스트용 데이터로 결과 추출 후 엑셀 파일 저장"
      ],
      "metadata": {
        "id": "zph7KQyYAU0Y"
      }
    },
    {
      "cell_type": "code",
      "source": [],
      "metadata": {
        "id": "-qKjNdH8CGb8"
      },
      "execution_count": null,
      "outputs": []
    }
  ]
}